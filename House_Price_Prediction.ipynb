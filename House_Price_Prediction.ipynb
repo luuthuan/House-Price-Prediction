{
  "nbformat": 4,
  "nbformat_minor": 0,
  "metadata": {
    "colab": {
      "provenance": []
    },
    "kernelspec": {
      "name": "python3",
      "display_name": "Python 3"
    },
    "language_info": {
      "name": "python"
    }
  },
  "cells": [
    {
      "cell_type": "markdown",
      "source": [
        "# House Price Prediction Project\n",
        "\n",
        "\n",
        "---\n",
        "\n",
        "## 1. Problem Definition\n",
        "\n",
        "\n",
        "*   **Goal**: Predict the sales price for each house\n",
        "\n",
        "## 2. Feature Selection\n",
        "\n",
        "*  Choose features to train ML Model\n",
        "*  Need to use `Feature Engineering` to identify Features needed\n",
        "\n",
        "## 3. Spliting the datasets\n",
        "### 3.1. dataset -> X, y\n",
        "* `data`: dataset\n",
        "* `X`: `data[features]`\n",
        "* `y`: target variable `SalePrice`\n",
        "\n",
        "### 3.2. `X and y` -> `X_train` `y_train` and `X_valid` `y_valid`\n",
        "## 4. Training Machine Learning Model\n",
        "---\n",
        "\n",
        "\n",
        "\n"
      ],
      "metadata": {
        "id": "QhP3bWvoYTBI"
      }
    },
    {
      "cell_type": "markdown",
      "source": [
        "## 1. Problem Definition"
      ],
      "metadata": {
        "id": "BDtqcoM-cZPQ"
      }
    },
    {
      "cell_type": "code",
      "execution_count": null,
      "metadata": {
        "id": "U-Q0EW5QIPF3"
      },
      "outputs": [],
      "source": [
        "# Import libraries\n",
        "import pandas as pd\n",
        "import numpy as np\n"
      ]
    },
    {
      "cell_type": "markdown",
      "source": [
        "\n",
        "\n",
        "*   Reading dataset\n",
        "\n"
      ],
      "metadata": {
        "id": "uuLotNsCY6dw"
      }
    },
    {
      "cell_type": "code",
      "source": [
        "data = pd.read_csv('/content/drive/MyDrive/Colab datasets/House Price Prediction/train.csv', index_col='Id')\n",
        "data.head()"
      ],
      "metadata": {
        "colab": {
          "base_uri": "https://localhost:8080/",
          "height": 287
        },
        "id": "am1ZWLG4ZLBw",
        "outputId": "e0f733cc-528c-4b85-95b9-efc724acacbe"
      },
      "execution_count": null,
      "outputs": [
        {
          "output_type": "execute_result",
          "data": {
            "text/plain": [
              "    MSSubClass MSZoning  LotFrontage  LotArea Street Alley LotShape  \\\n",
              "Id                                                                    \n",
              "1           60       RL         65.0     8450   Pave   NaN      Reg   \n",
              "2           20       RL         80.0     9600   Pave   NaN      Reg   \n",
              "3           60       RL         68.0    11250   Pave   NaN      IR1   \n",
              "4           70       RL         60.0     9550   Pave   NaN      IR1   \n",
              "5           60       RL         84.0    14260   Pave   NaN      IR1   \n",
              "\n",
              "   LandContour Utilities LotConfig  ... PoolArea PoolQC Fence MiscFeature  \\\n",
              "Id                                  ...                                     \n",
              "1          Lvl    AllPub    Inside  ...        0    NaN   NaN         NaN   \n",
              "2          Lvl    AllPub       FR2  ...        0    NaN   NaN         NaN   \n",
              "3          Lvl    AllPub    Inside  ...        0    NaN   NaN         NaN   \n",
              "4          Lvl    AllPub    Corner  ...        0    NaN   NaN         NaN   \n",
              "5          Lvl    AllPub       FR2  ...        0    NaN   NaN         NaN   \n",
              "\n",
              "   MiscVal MoSold  YrSold  SaleType  SaleCondition  SalePrice  \n",
              "Id                                                             \n",
              "1        0      2    2008        WD         Normal     208500  \n",
              "2        0      5    2007        WD         Normal     181500  \n",
              "3        0      9    2008        WD         Normal     223500  \n",
              "4        0      2    2006        WD        Abnorml     140000  \n",
              "5        0     12    2008        WD         Normal     250000  \n",
              "\n",
              "[5 rows x 80 columns]"
            ],
            "text/html": [
              "\n",
              "  <div id=\"df-d06fcf88-3d71-4c97-b70d-880da19e1ef8\" class=\"colab-df-container\">\n",
              "    <div>\n",
              "<style scoped>\n",
              "    .dataframe tbody tr th:only-of-type {\n",
              "        vertical-align: middle;\n",
              "    }\n",
              "\n",
              "    .dataframe tbody tr th {\n",
              "        vertical-align: top;\n",
              "    }\n",
              "\n",
              "    .dataframe thead th {\n",
              "        text-align: right;\n",
              "    }\n",
              "</style>\n",
              "<table border=\"1\" class=\"dataframe\">\n",
              "  <thead>\n",
              "    <tr style=\"text-align: right;\">\n",
              "      <th></th>\n",
              "      <th>MSSubClass</th>\n",
              "      <th>MSZoning</th>\n",
              "      <th>LotFrontage</th>\n",
              "      <th>LotArea</th>\n",
              "      <th>Street</th>\n",
              "      <th>Alley</th>\n",
              "      <th>LotShape</th>\n",
              "      <th>LandContour</th>\n",
              "      <th>Utilities</th>\n",
              "      <th>LotConfig</th>\n",
              "      <th>...</th>\n",
              "      <th>PoolArea</th>\n",
              "      <th>PoolQC</th>\n",
              "      <th>Fence</th>\n",
              "      <th>MiscFeature</th>\n",
              "      <th>MiscVal</th>\n",
              "      <th>MoSold</th>\n",
              "      <th>YrSold</th>\n",
              "      <th>SaleType</th>\n",
              "      <th>SaleCondition</th>\n",
              "      <th>SalePrice</th>\n",
              "    </tr>\n",
              "    <tr>\n",
              "      <th>Id</th>\n",
              "      <th></th>\n",
              "      <th></th>\n",
              "      <th></th>\n",
              "      <th></th>\n",
              "      <th></th>\n",
              "      <th></th>\n",
              "      <th></th>\n",
              "      <th></th>\n",
              "      <th></th>\n",
              "      <th></th>\n",
              "      <th></th>\n",
              "      <th></th>\n",
              "      <th></th>\n",
              "      <th></th>\n",
              "      <th></th>\n",
              "      <th></th>\n",
              "      <th></th>\n",
              "      <th></th>\n",
              "      <th></th>\n",
              "      <th></th>\n",
              "      <th></th>\n",
              "    </tr>\n",
              "  </thead>\n",
              "  <tbody>\n",
              "    <tr>\n",
              "      <th>1</th>\n",
              "      <td>60</td>\n",
              "      <td>RL</td>\n",
              "      <td>65.0</td>\n",
              "      <td>8450</td>\n",
              "      <td>Pave</td>\n",
              "      <td>NaN</td>\n",
              "      <td>Reg</td>\n",
              "      <td>Lvl</td>\n",
              "      <td>AllPub</td>\n",
              "      <td>Inside</td>\n",
              "      <td>...</td>\n",
              "      <td>0</td>\n",
              "      <td>NaN</td>\n",
              "      <td>NaN</td>\n",
              "      <td>NaN</td>\n",
              "      <td>0</td>\n",
              "      <td>2</td>\n",
              "      <td>2008</td>\n",
              "      <td>WD</td>\n",
              "      <td>Normal</td>\n",
              "      <td>208500</td>\n",
              "    </tr>\n",
              "    <tr>\n",
              "      <th>2</th>\n",
              "      <td>20</td>\n",
              "      <td>RL</td>\n",
              "      <td>80.0</td>\n",
              "      <td>9600</td>\n",
              "      <td>Pave</td>\n",
              "      <td>NaN</td>\n",
              "      <td>Reg</td>\n",
              "      <td>Lvl</td>\n",
              "      <td>AllPub</td>\n",
              "      <td>FR2</td>\n",
              "      <td>...</td>\n",
              "      <td>0</td>\n",
              "      <td>NaN</td>\n",
              "      <td>NaN</td>\n",
              "      <td>NaN</td>\n",
              "      <td>0</td>\n",
              "      <td>5</td>\n",
              "      <td>2007</td>\n",
              "      <td>WD</td>\n",
              "      <td>Normal</td>\n",
              "      <td>181500</td>\n",
              "    </tr>\n",
              "    <tr>\n",
              "      <th>3</th>\n",
              "      <td>60</td>\n",
              "      <td>RL</td>\n",
              "      <td>68.0</td>\n",
              "      <td>11250</td>\n",
              "      <td>Pave</td>\n",
              "      <td>NaN</td>\n",
              "      <td>IR1</td>\n",
              "      <td>Lvl</td>\n",
              "      <td>AllPub</td>\n",
              "      <td>Inside</td>\n",
              "      <td>...</td>\n",
              "      <td>0</td>\n",
              "      <td>NaN</td>\n",
              "      <td>NaN</td>\n",
              "      <td>NaN</td>\n",
              "      <td>0</td>\n",
              "      <td>9</td>\n",
              "      <td>2008</td>\n",
              "      <td>WD</td>\n",
              "      <td>Normal</td>\n",
              "      <td>223500</td>\n",
              "    </tr>\n",
              "    <tr>\n",
              "      <th>4</th>\n",
              "      <td>70</td>\n",
              "      <td>RL</td>\n",
              "      <td>60.0</td>\n",
              "      <td>9550</td>\n",
              "      <td>Pave</td>\n",
              "      <td>NaN</td>\n",
              "      <td>IR1</td>\n",
              "      <td>Lvl</td>\n",
              "      <td>AllPub</td>\n",
              "      <td>Corner</td>\n",
              "      <td>...</td>\n",
              "      <td>0</td>\n",
              "      <td>NaN</td>\n",
              "      <td>NaN</td>\n",
              "      <td>NaN</td>\n",
              "      <td>0</td>\n",
              "      <td>2</td>\n",
              "      <td>2006</td>\n",
              "      <td>WD</td>\n",
              "      <td>Abnorml</td>\n",
              "      <td>140000</td>\n",
              "    </tr>\n",
              "    <tr>\n",
              "      <th>5</th>\n",
              "      <td>60</td>\n",
              "      <td>RL</td>\n",
              "      <td>84.0</td>\n",
              "      <td>14260</td>\n",
              "      <td>Pave</td>\n",
              "      <td>NaN</td>\n",
              "      <td>IR1</td>\n",
              "      <td>Lvl</td>\n",
              "      <td>AllPub</td>\n",
              "      <td>FR2</td>\n",
              "      <td>...</td>\n",
              "      <td>0</td>\n",
              "      <td>NaN</td>\n",
              "      <td>NaN</td>\n",
              "      <td>NaN</td>\n",
              "      <td>0</td>\n",
              "      <td>12</td>\n",
              "      <td>2008</td>\n",
              "      <td>WD</td>\n",
              "      <td>Normal</td>\n",
              "      <td>250000</td>\n",
              "    </tr>\n",
              "  </tbody>\n",
              "</table>\n",
              "<p>5 rows × 80 columns</p>\n",
              "</div>\n",
              "    <div class=\"colab-df-buttons\">\n",
              "\n",
              "  <div class=\"colab-df-container\">\n",
              "    <button class=\"colab-df-convert\" onclick=\"convertToInteractive('df-d06fcf88-3d71-4c97-b70d-880da19e1ef8')\"\n",
              "            title=\"Convert this dataframe to an interactive table.\"\n",
              "            style=\"display:none;\">\n",
              "\n",
              "  <svg xmlns=\"http://www.w3.org/2000/svg\" height=\"24px\" viewBox=\"0 -960 960 960\">\n",
              "    <path d=\"M120-120v-720h720v720H120Zm60-500h600v-160H180v160Zm220 220h160v-160H400v160Zm0 220h160v-160H400v160ZM180-400h160v-160H180v160Zm440 0h160v-160H620v160ZM180-180h160v-160H180v160Zm440 0h160v-160H620v160Z\"/>\n",
              "  </svg>\n",
              "    </button>\n",
              "\n",
              "  <style>\n",
              "    .colab-df-container {\n",
              "      display:flex;\n",
              "      gap: 12px;\n",
              "    }\n",
              "\n",
              "    .colab-df-convert {\n",
              "      background-color: #E8F0FE;\n",
              "      border: none;\n",
              "      border-radius: 50%;\n",
              "      cursor: pointer;\n",
              "      display: none;\n",
              "      fill: #1967D2;\n",
              "      height: 32px;\n",
              "      padding: 0 0 0 0;\n",
              "      width: 32px;\n",
              "    }\n",
              "\n",
              "    .colab-df-convert:hover {\n",
              "      background-color: #E2EBFA;\n",
              "      box-shadow: 0px 1px 2px rgba(60, 64, 67, 0.3), 0px 1px 3px 1px rgba(60, 64, 67, 0.15);\n",
              "      fill: #174EA6;\n",
              "    }\n",
              "\n",
              "    .colab-df-buttons div {\n",
              "      margin-bottom: 4px;\n",
              "    }\n",
              "\n",
              "    [theme=dark] .colab-df-convert {\n",
              "      background-color: #3B4455;\n",
              "      fill: #D2E3FC;\n",
              "    }\n",
              "\n",
              "    [theme=dark] .colab-df-convert:hover {\n",
              "      background-color: #434B5C;\n",
              "      box-shadow: 0px 1px 3px 1px rgba(0, 0, 0, 0.15);\n",
              "      filter: drop-shadow(0px 1px 2px rgba(0, 0, 0, 0.3));\n",
              "      fill: #FFFFFF;\n",
              "    }\n",
              "  </style>\n",
              "\n",
              "    <script>\n",
              "      const buttonEl =\n",
              "        document.querySelector('#df-d06fcf88-3d71-4c97-b70d-880da19e1ef8 button.colab-df-convert');\n",
              "      buttonEl.style.display =\n",
              "        google.colab.kernel.accessAllowed ? 'block' : 'none';\n",
              "\n",
              "      async function convertToInteractive(key) {\n",
              "        const element = document.querySelector('#df-d06fcf88-3d71-4c97-b70d-880da19e1ef8');\n",
              "        const dataTable =\n",
              "          await google.colab.kernel.invokeFunction('convertToInteractive',\n",
              "                                                    [key], {});\n",
              "        if (!dataTable) return;\n",
              "\n",
              "        const docLinkHtml = 'Like what you see? Visit the ' +\n",
              "          '<a target=\"_blank\" href=https://colab.research.google.com/notebooks/data_table.ipynb>data table notebook</a>'\n",
              "          + ' to learn more about interactive tables.';\n",
              "        element.innerHTML = '';\n",
              "        dataTable['output_type'] = 'display_data';\n",
              "        await google.colab.output.renderOutput(dataTable, element);\n",
              "        const docLink = document.createElement('div');\n",
              "        docLink.innerHTML = docLinkHtml;\n",
              "        element.appendChild(docLink);\n",
              "      }\n",
              "    </script>\n",
              "  </div>\n",
              "\n",
              "\n",
              "<div id=\"df-6f624967-5c65-4029-8a6f-5360d9d04493\">\n",
              "  <button class=\"colab-df-quickchart\" onclick=\"quickchart('df-6f624967-5c65-4029-8a6f-5360d9d04493')\"\n",
              "            title=\"Suggest charts\"\n",
              "            style=\"display:none;\">\n",
              "\n",
              "<svg xmlns=\"http://www.w3.org/2000/svg\" height=\"24px\"viewBox=\"0 0 24 24\"\n",
              "     width=\"24px\">\n",
              "    <g>\n",
              "        <path d=\"M19 3H5c-1.1 0-2 .9-2 2v14c0 1.1.9 2 2 2h14c1.1 0 2-.9 2-2V5c0-1.1-.9-2-2-2zM9 17H7v-7h2v7zm4 0h-2V7h2v10zm4 0h-2v-4h2v4z\"/>\n",
              "    </g>\n",
              "</svg>\n",
              "  </button>\n",
              "\n",
              "<style>\n",
              "  .colab-df-quickchart {\n",
              "      --bg-color: #E8F0FE;\n",
              "      --fill-color: #1967D2;\n",
              "      --hover-bg-color: #E2EBFA;\n",
              "      --hover-fill-color: #174EA6;\n",
              "      --disabled-fill-color: #AAA;\n",
              "      --disabled-bg-color: #DDD;\n",
              "  }\n",
              "\n",
              "  [theme=dark] .colab-df-quickchart {\n",
              "      --bg-color: #3B4455;\n",
              "      --fill-color: #D2E3FC;\n",
              "      --hover-bg-color: #434B5C;\n",
              "      --hover-fill-color: #FFFFFF;\n",
              "      --disabled-bg-color: #3B4455;\n",
              "      --disabled-fill-color: #666;\n",
              "  }\n",
              "\n",
              "  .colab-df-quickchart {\n",
              "    background-color: var(--bg-color);\n",
              "    border: none;\n",
              "    border-radius: 50%;\n",
              "    cursor: pointer;\n",
              "    display: none;\n",
              "    fill: var(--fill-color);\n",
              "    height: 32px;\n",
              "    padding: 0;\n",
              "    width: 32px;\n",
              "  }\n",
              "\n",
              "  .colab-df-quickchart:hover {\n",
              "    background-color: var(--hover-bg-color);\n",
              "    box-shadow: 0 1px 2px rgba(60, 64, 67, 0.3), 0 1px 3px 1px rgba(60, 64, 67, 0.15);\n",
              "    fill: var(--button-hover-fill-color);\n",
              "  }\n",
              "\n",
              "  .colab-df-quickchart-complete:disabled,\n",
              "  .colab-df-quickchart-complete:disabled:hover {\n",
              "    background-color: var(--disabled-bg-color);\n",
              "    fill: var(--disabled-fill-color);\n",
              "    box-shadow: none;\n",
              "  }\n",
              "\n",
              "  .colab-df-spinner {\n",
              "    border: 2px solid var(--fill-color);\n",
              "    border-color: transparent;\n",
              "    border-bottom-color: var(--fill-color);\n",
              "    animation:\n",
              "      spin 1s steps(1) infinite;\n",
              "  }\n",
              "\n",
              "  @keyframes spin {\n",
              "    0% {\n",
              "      border-color: transparent;\n",
              "      border-bottom-color: var(--fill-color);\n",
              "      border-left-color: var(--fill-color);\n",
              "    }\n",
              "    20% {\n",
              "      border-color: transparent;\n",
              "      border-left-color: var(--fill-color);\n",
              "      border-top-color: var(--fill-color);\n",
              "    }\n",
              "    30% {\n",
              "      border-color: transparent;\n",
              "      border-left-color: var(--fill-color);\n",
              "      border-top-color: var(--fill-color);\n",
              "      border-right-color: var(--fill-color);\n",
              "    }\n",
              "    40% {\n",
              "      border-color: transparent;\n",
              "      border-right-color: var(--fill-color);\n",
              "      border-top-color: var(--fill-color);\n",
              "    }\n",
              "    60% {\n",
              "      border-color: transparent;\n",
              "      border-right-color: var(--fill-color);\n",
              "    }\n",
              "    80% {\n",
              "      border-color: transparent;\n",
              "      border-right-color: var(--fill-color);\n",
              "      border-bottom-color: var(--fill-color);\n",
              "    }\n",
              "    90% {\n",
              "      border-color: transparent;\n",
              "      border-bottom-color: var(--fill-color);\n",
              "    }\n",
              "  }\n",
              "</style>\n",
              "\n",
              "  <script>\n",
              "    async function quickchart(key) {\n",
              "      const quickchartButtonEl =\n",
              "        document.querySelector('#' + key + ' button');\n",
              "      quickchartButtonEl.disabled = true;  // To prevent multiple clicks.\n",
              "      quickchartButtonEl.classList.add('colab-df-spinner');\n",
              "      try {\n",
              "        const charts = await google.colab.kernel.invokeFunction(\n",
              "            'suggestCharts', [key], {});\n",
              "      } catch (error) {\n",
              "        console.error('Error during call to suggestCharts:', error);\n",
              "      }\n",
              "      quickchartButtonEl.classList.remove('colab-df-spinner');\n",
              "      quickchartButtonEl.classList.add('colab-df-quickchart-complete');\n",
              "    }\n",
              "    (() => {\n",
              "      let quickchartButtonEl =\n",
              "        document.querySelector('#df-6f624967-5c65-4029-8a6f-5360d9d04493 button');\n",
              "      quickchartButtonEl.style.display =\n",
              "        google.colab.kernel.accessAllowed ? 'block' : 'none';\n",
              "    })();\n",
              "  </script>\n",
              "</div>\n",
              "\n",
              "    </div>\n",
              "  </div>\n"
            ],
            "application/vnd.google.colaboratory.intrinsic+json": {
              "type": "dataframe",
              "variable_name": "data"
            }
          },
          "metadata": {},
          "execution_count": 57
        }
      ]
    },
    {
      "cell_type": "code",
      "source": [
        "list(data.columns)"
      ],
      "metadata": {
        "colab": {
          "base_uri": "https://localhost:8080/"
        },
        "id": "_ylnJIg5ZTZ9",
        "outputId": "0fca9104-d0a5-410f-d42e-c9999fb022da"
      },
      "execution_count": null,
      "outputs": [
        {
          "output_type": "execute_result",
          "data": {
            "text/plain": [
              "['MSSubClass',\n",
              " 'MSZoning',\n",
              " 'LotFrontage',\n",
              " 'LotArea',\n",
              " 'Street',\n",
              " 'Alley',\n",
              " 'LotShape',\n",
              " 'LandContour',\n",
              " 'Utilities',\n",
              " 'LotConfig',\n",
              " 'LandSlope',\n",
              " 'Neighborhood',\n",
              " 'Condition1',\n",
              " 'Condition2',\n",
              " 'BldgType',\n",
              " 'HouseStyle',\n",
              " 'OverallQual',\n",
              " 'OverallCond',\n",
              " 'YearBuilt',\n",
              " 'YearRemodAdd',\n",
              " 'RoofStyle',\n",
              " 'RoofMatl',\n",
              " 'Exterior1st',\n",
              " 'Exterior2nd',\n",
              " 'MasVnrType',\n",
              " 'MasVnrArea',\n",
              " 'ExterQual',\n",
              " 'ExterCond',\n",
              " 'Foundation',\n",
              " 'BsmtQual',\n",
              " 'BsmtCond',\n",
              " 'BsmtExposure',\n",
              " 'BsmtFinType1',\n",
              " 'BsmtFinSF1',\n",
              " 'BsmtFinType2',\n",
              " 'BsmtFinSF2',\n",
              " 'BsmtUnfSF',\n",
              " 'TotalBsmtSF',\n",
              " 'Heating',\n",
              " 'HeatingQC',\n",
              " 'CentralAir',\n",
              " 'Electrical',\n",
              " '1stFlrSF',\n",
              " '2ndFlrSF',\n",
              " 'LowQualFinSF',\n",
              " 'GrLivArea',\n",
              " 'BsmtFullBath',\n",
              " 'BsmtHalfBath',\n",
              " 'FullBath',\n",
              " 'HalfBath',\n",
              " 'BedroomAbvGr',\n",
              " 'KitchenAbvGr',\n",
              " 'KitchenQual',\n",
              " 'TotRmsAbvGrd',\n",
              " 'Functional',\n",
              " 'Fireplaces',\n",
              " 'FireplaceQu',\n",
              " 'GarageType',\n",
              " 'GarageYrBlt',\n",
              " 'GarageFinish',\n",
              " 'GarageCars',\n",
              " 'GarageArea',\n",
              " 'GarageQual',\n",
              " 'GarageCond',\n",
              " 'PavedDrive',\n",
              " 'WoodDeckSF',\n",
              " 'OpenPorchSF',\n",
              " 'EnclosedPorch',\n",
              " '3SsnPorch',\n",
              " 'ScreenPorch',\n",
              " 'PoolArea',\n",
              " 'PoolQC',\n",
              " 'Fence',\n",
              " 'MiscFeature',\n",
              " 'MiscVal',\n",
              " 'MoSold',\n",
              " 'YrSold',\n",
              " 'SaleType',\n",
              " 'SaleCondition',\n",
              " 'SalePrice']"
            ]
          },
          "metadata": {},
          "execution_count": 58
        }
      ]
    },
    {
      "cell_type": "markdown",
      "source": [
        "## 2. Feature Selections"
      ],
      "metadata": {
        "id": "r6sIj09wcguz"
      }
    },
    {
      "cell_type": "code",
      "source": [
        "features = ['LotArea', 'YearBuilt', '1stFlrSF', '2ndFlrSF', 'FullBath', 'BedroomAbvGr', 'TotRmsAbvGrd']\n"
      ],
      "metadata": {
        "id": "OfiKBKoqbJHg"
      },
      "execution_count": null,
      "outputs": []
    },
    {
      "cell_type": "markdown",
      "source": [
        "## 3. Splitting dataset into X and y"
      ],
      "metadata": {
        "id": "5h4VcMcPckre"
      }
    },
    {
      "cell_type": "code",
      "source": [
        "X = data[features]\n",
        "y = data['SalePrice']"
      ],
      "metadata": {
        "id": "_6uSMiQ9cquO"
      },
      "execution_count": null,
      "outputs": []
    },
    {
      "cell_type": "markdown",
      "source": [
        "![image.png](data:image/png;base64,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)"
      ],
      "metadata": {
        "id": "hMF17RPodq7x"
      }
    },
    {
      "cell_type": "markdown",
      "source": [
        "* X: `data[features]` sẽ được chia thành `X_train` và `y_train` để predicts `SalePrice`\n",
        "* y: `data['SalePrice']` sẽ được chia thành `X_valid` và `y_valid` được dùng để compare với predictions của X với mục đích tìm ra độ chênh lệch\n",
        "\n",
        "### Purpose: Tránh trường hợp bị overfitting: dữ liệu model train được quá hoàn hảo"
      ],
      "metadata": {
        "id": "OYDNIWPOduxq"
      }
    },
    {
      "cell_type": "markdown",
      "source": [
        "`X and y` -> `X_train` `y_train` and `X_valid` `y_valid`"
      ],
      "metadata": {
        "id": "_7IqtnFggpmx"
      }
    },
    {
      "cell_type": "code",
      "source": [
        "from sklearn.model_selection import train_test_split\n",
        "X_train, X_valid, y_train, y_valid = train_test_split(X, y, train_size=0.8, test_size=0.2, random_state=0)"
      ],
      "metadata": {
        "id": "ev82yMGrduKf"
      },
      "execution_count": null,
      "outputs": []
    },
    {
      "cell_type": "markdown",
      "source": [
        "### Test"
      ],
      "metadata": {
        "id": "S7yR6mD-iJm9"
      }
    },
    {
      "cell_type": "code",
      "source": [
        "X_train.shape"
      ],
      "metadata": {
        "colab": {
          "base_uri": "https://localhost:8080/"
        },
        "id": "PwAz6CoEgb3V",
        "outputId": "b731f014-4580-4439-d084-e60e87f8c2d7"
      },
      "execution_count": null,
      "outputs": [
        {
          "output_type": "execute_result",
          "data": {
            "text/plain": [
              "(1168, 7)"
            ]
          },
          "metadata": {},
          "execution_count": 13
        }
      ]
    },
    {
      "cell_type": "code",
      "source": [
        "X.shape"
      ],
      "metadata": {
        "colab": {
          "base_uri": "https://localhost:8080/"
        },
        "id": "jJPCN77Thb3h",
        "outputId": "440e6a5d-3122-4a65-e2de-212566a50420"
      },
      "execution_count": null,
      "outputs": [
        {
          "output_type": "execute_result",
          "data": {
            "text/plain": [
              "(1460, 7)"
            ]
          },
          "metadata": {},
          "execution_count": 16
        }
      ]
    },
    {
      "cell_type": "code",
      "source": [
        "y_train.shape"
      ],
      "metadata": {
        "colab": {
          "base_uri": "https://localhost:8080/"
        },
        "id": "sr2Pt2lgh_ne",
        "outputId": "7bcec5a7-2962-4a17-f291-a3fd5c00ab20"
      },
      "execution_count": null,
      "outputs": [
        {
          "output_type": "execute_result",
          "data": {
            "text/plain": [
              "(1168,)"
            ]
          },
          "metadata": {},
          "execution_count": 17
        }
      ]
    },
    {
      "cell_type": "code",
      "source": [
        "y.shape"
      ],
      "metadata": {
        "colab": {
          "base_uri": "https://localhost:8080/"
        },
        "id": "gDn0u-SViBLj",
        "outputId": "59c9c63f-b08b-460d-a982-008581c6bf2e"
      },
      "execution_count": null,
      "outputs": [
        {
          "output_type": "execute_result",
          "data": {
            "text/plain": [
              "(1460,)"
            ]
          },
          "metadata": {},
          "execution_count": 19
        }
      ]
    },
    {
      "cell_type": "code",
      "source": [
        "1168 / 1460"
      ],
      "metadata": {
        "colab": {
          "base_uri": "https://localhost:8080/"
        },
        "id": "Bkq21yI8iCDU",
        "outputId": "c997f091-792b-46f5-d4a2-a7d9e2697bff"
      },
      "execution_count": null,
      "outputs": [
        {
          "output_type": "execute_result",
          "data": {
            "text/plain": [
              "0.8"
            ]
          },
          "metadata": {},
          "execution_count": 21
        }
      ]
    },
    {
      "cell_type": "markdown",
      "source": [
        "## 4. Training Machine Learning Model"
      ],
      "metadata": {
        "id": "9kG5Rfs3imZ4"
      }
    },
    {
      "cell_type": "markdown",
      "source": [
        "### Using Decision Tree"
      ],
      "metadata": {
        "id": "tZ4zDRPamQvu"
      }
    },
    {
      "cell_type": "code",
      "source": [
        "from sklearn.tree import DecisionTreeRegressor"
      ],
      "metadata": {
        "id": "B-UH6_UeinMQ"
      },
      "execution_count": null,
      "outputs": []
    },
    {
      "cell_type": "markdown",
      "source": [
        "#### Create DecisionTreeModel variable"
      ],
      "metadata": {
        "id": "_byoRFtTl4Fm"
      }
    },
    {
      "cell_type": "code",
      "source": [
        "dt_model = DecisionTreeRegressor(random_state=1)"
      ],
      "metadata": {
        "id": "-Mxbm6LqkcmS"
      },
      "execution_count": null,
      "outputs": []
    },
    {
      "cell_type": "markdown",
      "source": [
        "#### Fit training data into model"
      ],
      "metadata": {
        "id": "96jb7RSIkmfE"
      }
    },
    {
      "cell_type": "code",
      "source": [
        "# Fit training data into model\n",
        "dt_model.fit(X_train, y_train)"
      ],
      "metadata": {
        "colab": {
          "base_uri": "https://localhost:8080/",
          "height": 74
        },
        "id": "ySCsdpibkz15",
        "outputId": "bbcc975e-e82a-4c92-9120-c9f87306329d"
      },
      "execution_count": null,
      "outputs": [
        {
          "output_type": "execute_result",
          "data": {
            "text/plain": [
              "DecisionTreeRegressor(random_state=1)"
            ],
            "text/html": [
              "<style>#sk-container-id-1 {color: black;background-color: white;}#sk-container-id-1 pre{padding: 0;}#sk-container-id-1 div.sk-toggleable {background-color: white;}#sk-container-id-1 label.sk-toggleable__label {cursor: pointer;display: block;width: 100%;margin-bottom: 0;padding: 0.3em;box-sizing: border-box;text-align: center;}#sk-container-id-1 label.sk-toggleable__label-arrow:before {content: \"▸\";float: left;margin-right: 0.25em;color: #696969;}#sk-container-id-1 label.sk-toggleable__label-arrow:hover:before {color: black;}#sk-container-id-1 div.sk-estimator:hover label.sk-toggleable__label-arrow:before {color: black;}#sk-container-id-1 div.sk-toggleable__content {max-height: 0;max-width: 0;overflow: hidden;text-align: left;background-color: #f0f8ff;}#sk-container-id-1 div.sk-toggleable__content pre {margin: 0.2em;color: black;border-radius: 0.25em;background-color: #f0f8ff;}#sk-container-id-1 input.sk-toggleable__control:checked~div.sk-toggleable__content {max-height: 200px;max-width: 100%;overflow: auto;}#sk-container-id-1 input.sk-toggleable__control:checked~label.sk-toggleable__label-arrow:before {content: \"▾\";}#sk-container-id-1 div.sk-estimator input.sk-toggleable__control:checked~label.sk-toggleable__label {background-color: #d4ebff;}#sk-container-id-1 div.sk-label input.sk-toggleable__control:checked~label.sk-toggleable__label {background-color: #d4ebff;}#sk-container-id-1 input.sk-hidden--visually {border: 0;clip: rect(1px 1px 1px 1px);clip: rect(1px, 1px, 1px, 1px);height: 1px;margin: -1px;overflow: hidden;padding: 0;position: absolute;width: 1px;}#sk-container-id-1 div.sk-estimator {font-family: monospace;background-color: #f0f8ff;border: 1px dotted black;border-radius: 0.25em;box-sizing: border-box;margin-bottom: 0.5em;}#sk-container-id-1 div.sk-estimator:hover {background-color: #d4ebff;}#sk-container-id-1 div.sk-parallel-item::after {content: \"\";width: 100%;border-bottom: 1px solid gray;flex-grow: 1;}#sk-container-id-1 div.sk-label:hover label.sk-toggleable__label {background-color: #d4ebff;}#sk-container-id-1 div.sk-serial::before {content: \"\";position: absolute;border-left: 1px solid gray;box-sizing: border-box;top: 0;bottom: 0;left: 50%;z-index: 0;}#sk-container-id-1 div.sk-serial {display: flex;flex-direction: column;align-items: center;background-color: white;padding-right: 0.2em;padding-left: 0.2em;position: relative;}#sk-container-id-1 div.sk-item {position: relative;z-index: 1;}#sk-container-id-1 div.sk-parallel {display: flex;align-items: stretch;justify-content: center;background-color: white;position: relative;}#sk-container-id-1 div.sk-item::before, #sk-container-id-1 div.sk-parallel-item::before {content: \"\";position: absolute;border-left: 1px solid gray;box-sizing: border-box;top: 0;bottom: 0;left: 50%;z-index: -1;}#sk-container-id-1 div.sk-parallel-item {display: flex;flex-direction: column;z-index: 1;position: relative;background-color: white;}#sk-container-id-1 div.sk-parallel-item:first-child::after {align-self: flex-end;width: 50%;}#sk-container-id-1 div.sk-parallel-item:last-child::after {align-self: flex-start;width: 50%;}#sk-container-id-1 div.sk-parallel-item:only-child::after {width: 0;}#sk-container-id-1 div.sk-dashed-wrapped {border: 1px dashed gray;margin: 0 0.4em 0.5em 0.4em;box-sizing: border-box;padding-bottom: 0.4em;background-color: white;}#sk-container-id-1 div.sk-label label {font-family: monospace;font-weight: bold;display: inline-block;line-height: 1.2em;}#sk-container-id-1 div.sk-label-container {text-align: center;}#sk-container-id-1 div.sk-container {/* jupyter's `normalize.less` sets `[hidden] { display: none; }` but bootstrap.min.css set `[hidden] { display: none !important; }` so we also need the `!important` here to be able to override the default hidden behavior on the sphinx rendered scikit-learn.org. See: https://github.com/scikit-learn/scikit-learn/issues/21755 */display: inline-block !important;position: relative;}#sk-container-id-1 div.sk-text-repr-fallback {display: none;}</style><div id=\"sk-container-id-1\" class=\"sk-top-container\"><div class=\"sk-text-repr-fallback\"><pre>DecisionTreeRegressor(random_state=1)</pre><b>In a Jupyter environment, please rerun this cell to show the HTML representation or trust the notebook. <br />On GitHub, the HTML representation is unable to render, please try loading this page with nbviewer.org.</b></div><div class=\"sk-container\" hidden><div class=\"sk-item\"><div class=\"sk-estimator sk-toggleable\"><input class=\"sk-toggleable__control sk-hidden--visually\" id=\"sk-estimator-id-1\" type=\"checkbox\" checked><label for=\"sk-estimator-id-1\" class=\"sk-toggleable__label sk-toggleable__label-arrow\">DecisionTreeRegressor</label><div class=\"sk-toggleable__content\"><pre>DecisionTreeRegressor(random_state=1)</pre></div></div></div></div></div>"
            ]
          },
          "metadata": {},
          "execution_count": 25
        }
      ]
    },
    {
      "cell_type": "markdown",
      "source": [
        "#### Prediction"
      ],
      "metadata": {
        "id": "xx7HyoxWmAYv"
      }
    },
    {
      "cell_type": "code",
      "source": [
        "y_predict = dt_model.predict(X_valid.head())"
      ],
      "metadata": {
        "id": "2b5u6eH9k-Df"
      },
      "execution_count": null,
      "outputs": []
    },
    {
      "cell_type": "code",
      "source": [
        "y_predict"
      ],
      "metadata": {
        "colab": {
          "base_uri": "https://localhost:8080/"
        },
        "id": "yfcsh6Fik_xs",
        "outputId": "f04b94ec-b278-4a58-ecd8-5ff2106ca04b"
      },
      "execution_count": null,
      "outputs": [
        {
          "output_type": "execute_result",
          "data": {
            "text/plain": [
              "array([335000., 140200., 119000., 207500., 112000.])"
            ]
          },
          "metadata": {},
          "execution_count": 28
        }
      ]
    },
    {
      "cell_type": "markdown",
      "source": [
        "#### Test prediction values"
      ],
      "metadata": {
        "id": "D4drMvUWloJ1"
      }
    },
    {
      "cell_type": "code",
      "source": [
        "pd.DataFrame({'y': y_valid.head(), 'y_predicts': y_predict})"
      ],
      "metadata": {
        "colab": {
          "base_uri": "https://localhost:8080/",
          "height": 237
        },
        "id": "mZ-60jCQlL0D",
        "outputId": "b1782cf3-4988-4241-a709-605602820860"
      },
      "execution_count": null,
      "outputs": [
        {
          "output_type": "execute_result",
          "data": {
            "text/plain": [
              "          y  y_predicts\n",
              "Id                     \n",
              "530  200624    335000.0\n",
              "492  133000    140200.0\n",
              "460  110000    119000.0\n",
              "280  192000    207500.0\n",
              "656   88000    112000.0"
            ],
            "text/html": [
              "\n",
              "  <div id=\"df-a456ee93-20f1-4e66-a554-438c2b6e849e\" class=\"colab-df-container\">\n",
              "    <div>\n",
              "<style scoped>\n",
              "    .dataframe tbody tr th:only-of-type {\n",
              "        vertical-align: middle;\n",
              "    }\n",
              "\n",
              "    .dataframe tbody tr th {\n",
              "        vertical-align: top;\n",
              "    }\n",
              "\n",
              "    .dataframe thead th {\n",
              "        text-align: right;\n",
              "    }\n",
              "</style>\n",
              "<table border=\"1\" class=\"dataframe\">\n",
              "  <thead>\n",
              "    <tr style=\"text-align: right;\">\n",
              "      <th></th>\n",
              "      <th>y</th>\n",
              "      <th>y_predicts</th>\n",
              "    </tr>\n",
              "    <tr>\n",
              "      <th>Id</th>\n",
              "      <th></th>\n",
              "      <th></th>\n",
              "    </tr>\n",
              "  </thead>\n",
              "  <tbody>\n",
              "    <tr>\n",
              "      <th>530</th>\n",
              "      <td>200624</td>\n",
              "      <td>335000.0</td>\n",
              "    </tr>\n",
              "    <tr>\n",
              "      <th>492</th>\n",
              "      <td>133000</td>\n",
              "      <td>140200.0</td>\n",
              "    </tr>\n",
              "    <tr>\n",
              "      <th>460</th>\n",
              "      <td>110000</td>\n",
              "      <td>119000.0</td>\n",
              "    </tr>\n",
              "    <tr>\n",
              "      <th>280</th>\n",
              "      <td>192000</td>\n",
              "      <td>207500.0</td>\n",
              "    </tr>\n",
              "    <tr>\n",
              "      <th>656</th>\n",
              "      <td>88000</td>\n",
              "      <td>112000.0</td>\n",
              "    </tr>\n",
              "  </tbody>\n",
              "</table>\n",
              "</div>\n",
              "    <div class=\"colab-df-buttons\">\n",
              "\n",
              "  <div class=\"colab-df-container\">\n",
              "    <button class=\"colab-df-convert\" onclick=\"convertToInteractive('df-a456ee93-20f1-4e66-a554-438c2b6e849e')\"\n",
              "            title=\"Convert this dataframe to an interactive table.\"\n",
              "            style=\"display:none;\">\n",
              "\n",
              "  <svg xmlns=\"http://www.w3.org/2000/svg\" height=\"24px\" viewBox=\"0 -960 960 960\">\n",
              "    <path d=\"M120-120v-720h720v720H120Zm60-500h600v-160H180v160Zm220 220h160v-160H400v160Zm0 220h160v-160H400v160ZM180-400h160v-160H180v160Zm440 0h160v-160H620v160ZM180-180h160v-160H180v160Zm440 0h160v-160H620v160Z\"/>\n",
              "  </svg>\n",
              "    </button>\n",
              "\n",
              "  <style>\n",
              "    .colab-df-container {\n",
              "      display:flex;\n",
              "      gap: 12px;\n",
              "    }\n",
              "\n",
              "    .colab-df-convert {\n",
              "      background-color: #E8F0FE;\n",
              "      border: none;\n",
              "      border-radius: 50%;\n",
              "      cursor: pointer;\n",
              "      display: none;\n",
              "      fill: #1967D2;\n",
              "      height: 32px;\n",
              "      padding: 0 0 0 0;\n",
              "      width: 32px;\n",
              "    }\n",
              "\n",
              "    .colab-df-convert:hover {\n",
              "      background-color: #E2EBFA;\n",
              "      box-shadow: 0px 1px 2px rgba(60, 64, 67, 0.3), 0px 1px 3px 1px rgba(60, 64, 67, 0.15);\n",
              "      fill: #174EA6;\n",
              "    }\n",
              "\n",
              "    .colab-df-buttons div {\n",
              "      margin-bottom: 4px;\n",
              "    }\n",
              "\n",
              "    [theme=dark] .colab-df-convert {\n",
              "      background-color: #3B4455;\n",
              "      fill: #D2E3FC;\n",
              "    }\n",
              "\n",
              "    [theme=dark] .colab-df-convert:hover {\n",
              "      background-color: #434B5C;\n",
              "      box-shadow: 0px 1px 3px 1px rgba(0, 0, 0, 0.15);\n",
              "      filter: drop-shadow(0px 1px 2px rgba(0, 0, 0, 0.3));\n",
              "      fill: #FFFFFF;\n",
              "    }\n",
              "  </style>\n",
              "\n",
              "    <script>\n",
              "      const buttonEl =\n",
              "        document.querySelector('#df-a456ee93-20f1-4e66-a554-438c2b6e849e button.colab-df-convert');\n",
              "      buttonEl.style.display =\n",
              "        google.colab.kernel.accessAllowed ? 'block' : 'none';\n",
              "\n",
              "      async function convertToInteractive(key) {\n",
              "        const element = document.querySelector('#df-a456ee93-20f1-4e66-a554-438c2b6e849e');\n",
              "        const dataTable =\n",
              "          await google.colab.kernel.invokeFunction('convertToInteractive',\n",
              "                                                    [key], {});\n",
              "        if (!dataTable) return;\n",
              "\n",
              "        const docLinkHtml = 'Like what you see? Visit the ' +\n",
              "          '<a target=\"_blank\" href=https://colab.research.google.com/notebooks/data_table.ipynb>data table notebook</a>'\n",
              "          + ' to learn more about interactive tables.';\n",
              "        element.innerHTML = '';\n",
              "        dataTable['output_type'] = 'display_data';\n",
              "        await google.colab.output.renderOutput(dataTable, element);\n",
              "        const docLink = document.createElement('div');\n",
              "        docLink.innerHTML = docLinkHtml;\n",
              "        element.appendChild(docLink);\n",
              "      }\n",
              "    </script>\n",
              "  </div>\n",
              "\n",
              "\n",
              "<div id=\"df-54630d2d-f5ab-4b05-a5fa-19639645cc1a\">\n",
              "  <button class=\"colab-df-quickchart\" onclick=\"quickchart('df-54630d2d-f5ab-4b05-a5fa-19639645cc1a')\"\n",
              "            title=\"Suggest charts\"\n",
              "            style=\"display:none;\">\n",
              "\n",
              "<svg xmlns=\"http://www.w3.org/2000/svg\" height=\"24px\"viewBox=\"0 0 24 24\"\n",
              "     width=\"24px\">\n",
              "    <g>\n",
              "        <path d=\"M19 3H5c-1.1 0-2 .9-2 2v14c0 1.1.9 2 2 2h14c1.1 0 2-.9 2-2V5c0-1.1-.9-2-2-2zM9 17H7v-7h2v7zm4 0h-2V7h2v10zm4 0h-2v-4h2v4z\"/>\n",
              "    </g>\n",
              "</svg>\n",
              "  </button>\n",
              "\n",
              "<style>\n",
              "  .colab-df-quickchart {\n",
              "      --bg-color: #E8F0FE;\n",
              "      --fill-color: #1967D2;\n",
              "      --hover-bg-color: #E2EBFA;\n",
              "      --hover-fill-color: #174EA6;\n",
              "      --disabled-fill-color: #AAA;\n",
              "      --disabled-bg-color: #DDD;\n",
              "  }\n",
              "\n",
              "  [theme=dark] .colab-df-quickchart {\n",
              "      --bg-color: #3B4455;\n",
              "      --fill-color: #D2E3FC;\n",
              "      --hover-bg-color: #434B5C;\n",
              "      --hover-fill-color: #FFFFFF;\n",
              "      --disabled-bg-color: #3B4455;\n",
              "      --disabled-fill-color: #666;\n",
              "  }\n",
              "\n",
              "  .colab-df-quickchart {\n",
              "    background-color: var(--bg-color);\n",
              "    border: none;\n",
              "    border-radius: 50%;\n",
              "    cursor: pointer;\n",
              "    display: none;\n",
              "    fill: var(--fill-color);\n",
              "    height: 32px;\n",
              "    padding: 0;\n",
              "    width: 32px;\n",
              "  }\n",
              "\n",
              "  .colab-df-quickchart:hover {\n",
              "    background-color: var(--hover-bg-color);\n",
              "    box-shadow: 0 1px 2px rgba(60, 64, 67, 0.3), 0 1px 3px 1px rgba(60, 64, 67, 0.15);\n",
              "    fill: var(--button-hover-fill-color);\n",
              "  }\n",
              "\n",
              "  .colab-df-quickchart-complete:disabled,\n",
              "  .colab-df-quickchart-complete:disabled:hover {\n",
              "    background-color: var(--disabled-bg-color);\n",
              "    fill: var(--disabled-fill-color);\n",
              "    box-shadow: none;\n",
              "  }\n",
              "\n",
              "  .colab-df-spinner {\n",
              "    border: 2px solid var(--fill-color);\n",
              "    border-color: transparent;\n",
              "    border-bottom-color: var(--fill-color);\n",
              "    animation:\n",
              "      spin 1s steps(1) infinite;\n",
              "  }\n",
              "\n",
              "  @keyframes spin {\n",
              "    0% {\n",
              "      border-color: transparent;\n",
              "      border-bottom-color: var(--fill-color);\n",
              "      border-left-color: var(--fill-color);\n",
              "    }\n",
              "    20% {\n",
              "      border-color: transparent;\n",
              "      border-left-color: var(--fill-color);\n",
              "      border-top-color: var(--fill-color);\n",
              "    }\n",
              "    30% {\n",
              "      border-color: transparent;\n",
              "      border-left-color: var(--fill-color);\n",
              "      border-top-color: var(--fill-color);\n",
              "      border-right-color: var(--fill-color);\n",
              "    }\n",
              "    40% {\n",
              "      border-color: transparent;\n",
              "      border-right-color: var(--fill-color);\n",
              "      border-top-color: var(--fill-color);\n",
              "    }\n",
              "    60% {\n",
              "      border-color: transparent;\n",
              "      border-right-color: var(--fill-color);\n",
              "    }\n",
              "    80% {\n",
              "      border-color: transparent;\n",
              "      border-right-color: var(--fill-color);\n",
              "      border-bottom-color: var(--fill-color);\n",
              "    }\n",
              "    90% {\n",
              "      border-color: transparent;\n",
              "      border-bottom-color: var(--fill-color);\n",
              "    }\n",
              "  }\n",
              "</style>\n",
              "\n",
              "  <script>\n",
              "    async function quickchart(key) {\n",
              "      const quickchartButtonEl =\n",
              "        document.querySelector('#' + key + ' button');\n",
              "      quickchartButtonEl.disabled = true;  // To prevent multiple clicks.\n",
              "      quickchartButtonEl.classList.add('colab-df-spinner');\n",
              "      try {\n",
              "        const charts = await google.colab.kernel.invokeFunction(\n",
              "            'suggestCharts', [key], {});\n",
              "      } catch (error) {\n",
              "        console.error('Error during call to suggestCharts:', error);\n",
              "      }\n",
              "      quickchartButtonEl.classList.remove('colab-df-spinner');\n",
              "      quickchartButtonEl.classList.add('colab-df-quickchart-complete');\n",
              "    }\n",
              "    (() => {\n",
              "      let quickchartButtonEl =\n",
              "        document.querySelector('#df-54630d2d-f5ab-4b05-a5fa-19639645cc1a button');\n",
              "      quickchartButtonEl.style.display =\n",
              "        google.colab.kernel.accessAllowed ? 'block' : 'none';\n",
              "    })();\n",
              "  </script>\n",
              "</div>\n",
              "\n",
              "    </div>\n",
              "  </div>\n"
            ],
            "application/vnd.google.colaboratory.intrinsic+json": {
              "type": "dataframe",
              "summary": "{\n  \"name\": \"pd\",\n  \"rows\": 5,\n  \"fields\": [\n    {\n      \"column\": \"Id\",\n      \"properties\": {\n        \"dtype\": \"number\",\n        \"std\": 135,\n        \"min\": 280,\n        \"max\": 656,\n        \"num_unique_values\": 5,\n        \"samples\": [\n          492,\n          656,\n          460\n        ],\n        \"semantic_type\": \"\",\n        \"description\": \"\"\n      }\n    },\n    {\n      \"column\": \"y\",\n      \"properties\": {\n        \"dtype\": \"number\",\n        \"std\": 49801,\n        \"min\": 88000,\n        \"max\": 200624,\n        \"num_unique_values\": 5,\n        \"samples\": [\n          133000,\n          88000,\n          110000\n        ],\n        \"semantic_type\": \"\",\n        \"description\": \"\"\n      }\n    },\n    {\n      \"column\": \"y_predicts\",\n      \"properties\": {\n        \"dtype\": \"number\",\n        \"std\": 93103.10413729501,\n        \"min\": 112000.0,\n        \"max\": 335000.0,\n        \"num_unique_values\": 5,\n        \"samples\": [\n          140200.0,\n          112000.0,\n          119000.0\n        ],\n        \"semantic_type\": \"\",\n        \"description\": \"\"\n      }\n    }\n  ]\n}"
            }
          },
          "metadata": {},
          "execution_count": 29
        }
      ]
    },
    {
      "cell_type": "markdown",
      "source": [
        "### Using Random Forest"
      ],
      "metadata": {
        "id": "vs4uiqpFmUlG"
      }
    },
    {
      "cell_type": "code",
      "source": [
        "from sklearn.ensemble import RandomForestRegressor, GradientBoostingRegressor"
      ],
      "metadata": {
        "id": "5YUZW3k3lgc5"
      },
      "execution_count": null,
      "outputs": []
    },
    {
      "cell_type": "markdown",
      "source": [
        "#### Create RandomForestModel variable"
      ],
      "metadata": {
        "id": "lgv8ZqwPmfNF"
      }
    },
    {
      "cell_type": "code",
      "source": [
        "rf_model = RandomForestRegressor(random_state=1)"
      ],
      "metadata": {
        "id": "wnC36qT1mYYp"
      },
      "execution_count": null,
      "outputs": []
    },
    {
      "cell_type": "markdown",
      "source": [
        "#### Fit training data into model"
      ],
      "metadata": {
        "id": "LzzcHo5rmtVr"
      }
    },
    {
      "cell_type": "code",
      "source": [
        "rf_model.fit(X_train, y_train)"
      ],
      "metadata": {
        "colab": {
          "base_uri": "https://localhost:8080/",
          "height": 74
        },
        "id": "nsdmfoXbmpIQ",
        "outputId": "0efe8454-e055-4114-d881-32f314d4c041"
      },
      "execution_count": null,
      "outputs": [
        {
          "output_type": "execute_result",
          "data": {
            "text/plain": [
              "RandomForestRegressor(random_state=1)"
            ],
            "text/html": [
              "<style>#sk-container-id-3 {color: black;background-color: white;}#sk-container-id-3 pre{padding: 0;}#sk-container-id-3 div.sk-toggleable {background-color: white;}#sk-container-id-3 label.sk-toggleable__label {cursor: pointer;display: block;width: 100%;margin-bottom: 0;padding: 0.3em;box-sizing: border-box;text-align: center;}#sk-container-id-3 label.sk-toggleable__label-arrow:before {content: \"▸\";float: left;margin-right: 0.25em;color: #696969;}#sk-container-id-3 label.sk-toggleable__label-arrow:hover:before {color: black;}#sk-container-id-3 div.sk-estimator:hover label.sk-toggleable__label-arrow:before {color: black;}#sk-container-id-3 div.sk-toggleable__content {max-height: 0;max-width: 0;overflow: hidden;text-align: left;background-color: #f0f8ff;}#sk-container-id-3 div.sk-toggleable__content pre {margin: 0.2em;color: black;border-radius: 0.25em;background-color: #f0f8ff;}#sk-container-id-3 input.sk-toggleable__control:checked~div.sk-toggleable__content {max-height: 200px;max-width: 100%;overflow: auto;}#sk-container-id-3 input.sk-toggleable__control:checked~label.sk-toggleable__label-arrow:before {content: \"▾\";}#sk-container-id-3 div.sk-estimator input.sk-toggleable__control:checked~label.sk-toggleable__label {background-color: #d4ebff;}#sk-container-id-3 div.sk-label input.sk-toggleable__control:checked~label.sk-toggleable__label {background-color: #d4ebff;}#sk-container-id-3 input.sk-hidden--visually {border: 0;clip: rect(1px 1px 1px 1px);clip: rect(1px, 1px, 1px, 1px);height: 1px;margin: -1px;overflow: hidden;padding: 0;position: absolute;width: 1px;}#sk-container-id-3 div.sk-estimator {font-family: monospace;background-color: #f0f8ff;border: 1px dotted black;border-radius: 0.25em;box-sizing: border-box;margin-bottom: 0.5em;}#sk-container-id-3 div.sk-estimator:hover {background-color: #d4ebff;}#sk-container-id-3 div.sk-parallel-item::after {content: \"\";width: 100%;border-bottom: 1px solid gray;flex-grow: 1;}#sk-container-id-3 div.sk-label:hover label.sk-toggleable__label {background-color: #d4ebff;}#sk-container-id-3 div.sk-serial::before {content: \"\";position: absolute;border-left: 1px solid gray;box-sizing: border-box;top: 0;bottom: 0;left: 50%;z-index: 0;}#sk-container-id-3 div.sk-serial {display: flex;flex-direction: column;align-items: center;background-color: white;padding-right: 0.2em;padding-left: 0.2em;position: relative;}#sk-container-id-3 div.sk-item {position: relative;z-index: 1;}#sk-container-id-3 div.sk-parallel {display: flex;align-items: stretch;justify-content: center;background-color: white;position: relative;}#sk-container-id-3 div.sk-item::before, #sk-container-id-3 div.sk-parallel-item::before {content: \"\";position: absolute;border-left: 1px solid gray;box-sizing: border-box;top: 0;bottom: 0;left: 50%;z-index: -1;}#sk-container-id-3 div.sk-parallel-item {display: flex;flex-direction: column;z-index: 1;position: relative;background-color: white;}#sk-container-id-3 div.sk-parallel-item:first-child::after {align-self: flex-end;width: 50%;}#sk-container-id-3 div.sk-parallel-item:last-child::after {align-self: flex-start;width: 50%;}#sk-container-id-3 div.sk-parallel-item:only-child::after {width: 0;}#sk-container-id-3 div.sk-dashed-wrapped {border: 1px dashed gray;margin: 0 0.4em 0.5em 0.4em;box-sizing: border-box;padding-bottom: 0.4em;background-color: white;}#sk-container-id-3 div.sk-label label {font-family: monospace;font-weight: bold;display: inline-block;line-height: 1.2em;}#sk-container-id-3 div.sk-label-container {text-align: center;}#sk-container-id-3 div.sk-container {/* jupyter's `normalize.less` sets `[hidden] { display: none; }` but bootstrap.min.css set `[hidden] { display: none !important; }` so we also need the `!important` here to be able to override the default hidden behavior on the sphinx rendered scikit-learn.org. See: https://github.com/scikit-learn/scikit-learn/issues/21755 */display: inline-block !important;position: relative;}#sk-container-id-3 div.sk-text-repr-fallback {display: none;}</style><div id=\"sk-container-id-3\" class=\"sk-top-container\"><div class=\"sk-text-repr-fallback\"><pre>RandomForestRegressor(random_state=1)</pre><b>In a Jupyter environment, please rerun this cell to show the HTML representation or trust the notebook. <br />On GitHub, the HTML representation is unable to render, please try loading this page with nbviewer.org.</b></div><div class=\"sk-container\" hidden><div class=\"sk-item\"><div class=\"sk-estimator sk-toggleable\"><input class=\"sk-toggleable__control sk-hidden--visually\" id=\"sk-estimator-id-3\" type=\"checkbox\" checked><label for=\"sk-estimator-id-3\" class=\"sk-toggleable__label sk-toggleable__label-arrow\">RandomForestRegressor</label><div class=\"sk-toggleable__content\"><pre>RandomForestRegressor(random_state=1)</pre></div></div></div></div></div>"
            ]
          },
          "metadata": {},
          "execution_count": 47
        }
      ]
    },
    {
      "cell_type": "markdown",
      "source": [
        "#### Prediction"
      ],
      "metadata": {
        "id": "-sFUL2ivm2mi"
      }
    },
    {
      "cell_type": "code",
      "source": [
        "rf_val_preds = rf_model.predict(X_valid)"
      ],
      "metadata": {
        "id": "uMt27w9hmzwg"
      },
      "execution_count": null,
      "outputs": []
    },
    {
      "cell_type": "code",
      "source": [
        "rf_val_preds[:5]"
      ],
      "metadata": {
        "colab": {
          "base_uri": "https://localhost:8080/"
        },
        "id": "i_WGwWCMnOCu",
        "outputId": "d7a8ee1f-c1e2-4bad-bf7f-11242ef88a07"
      },
      "execution_count": null,
      "outputs": [
        {
          "output_type": "execute_result",
          "data": {
            "text/plain": [
              "array([271690., 155039., 122024., 188915.,  91147.])"
            ]
          },
          "metadata": {},
          "execution_count": 49
        }
      ]
    },
    {
      "cell_type": "markdown",
      "source": [
        "#### Predict with a new input"
      ],
      "metadata": {
        "id": "n8RQU4-in0xT"
      }
    },
    {
      "cell_type": "code",
      "source": [
        "X_valid.head()"
      ],
      "metadata": {
        "colab": {
          "base_uri": "https://localhost:8080/",
          "height": 237
        },
        "id": "kWYPuv4ZoCGy",
        "outputId": "3a27b1b0-d4cf-4b6e-f6ea-f3bb4a12307b"
      },
      "execution_count": null,
      "outputs": [
        {
          "output_type": "execute_result",
          "data": {
            "text/plain": [
              "     LotArea  YearBuilt  1stFlrSF  2ndFlrSF  FullBath  BedroomAbvGr  \\\n",
              "Id                                                                    \n",
              "530    32668       1957      2515         0         3             4   \n",
              "492     9490       1941       958       620         1             3   \n",
              "460     7015       1950       979       224         1             3   \n",
              "280    10005       1977      1156       866         2             4   \n",
              "656     1680       1971       525       567         1             3   \n",
              "\n",
              "     TotRmsAbvGrd  \n",
              "Id                 \n",
              "530             9  \n",
              "492             5  \n",
              "460             5  \n",
              "280             8  \n",
              "656             6  "
            ],
            "text/html": [
              "\n",
              "  <div id=\"df-fdc4d410-ba0f-46d5-9542-7d23c413b8f9\" class=\"colab-df-container\">\n",
              "    <div>\n",
              "<style scoped>\n",
              "    .dataframe tbody tr th:only-of-type {\n",
              "        vertical-align: middle;\n",
              "    }\n",
              "\n",
              "    .dataframe tbody tr th {\n",
              "        vertical-align: top;\n",
              "    }\n",
              "\n",
              "    .dataframe thead th {\n",
              "        text-align: right;\n",
              "    }\n",
              "</style>\n",
              "<table border=\"1\" class=\"dataframe\">\n",
              "  <thead>\n",
              "    <tr style=\"text-align: right;\">\n",
              "      <th></th>\n",
              "      <th>LotArea</th>\n",
              "      <th>YearBuilt</th>\n",
              "      <th>1stFlrSF</th>\n",
              "      <th>2ndFlrSF</th>\n",
              "      <th>FullBath</th>\n",
              "      <th>BedroomAbvGr</th>\n",
              "      <th>TotRmsAbvGrd</th>\n",
              "    </tr>\n",
              "    <tr>\n",
              "      <th>Id</th>\n",
              "      <th></th>\n",
              "      <th></th>\n",
              "      <th></th>\n",
              "      <th></th>\n",
              "      <th></th>\n",
              "      <th></th>\n",
              "      <th></th>\n",
              "    </tr>\n",
              "  </thead>\n",
              "  <tbody>\n",
              "    <tr>\n",
              "      <th>530</th>\n",
              "      <td>32668</td>\n",
              "      <td>1957</td>\n",
              "      <td>2515</td>\n",
              "      <td>0</td>\n",
              "      <td>3</td>\n",
              "      <td>4</td>\n",
              "      <td>9</td>\n",
              "    </tr>\n",
              "    <tr>\n",
              "      <th>492</th>\n",
              "      <td>9490</td>\n",
              "      <td>1941</td>\n",
              "      <td>958</td>\n",
              "      <td>620</td>\n",
              "      <td>1</td>\n",
              "      <td>3</td>\n",
              "      <td>5</td>\n",
              "    </tr>\n",
              "    <tr>\n",
              "      <th>460</th>\n",
              "      <td>7015</td>\n",
              "      <td>1950</td>\n",
              "      <td>979</td>\n",
              "      <td>224</td>\n",
              "      <td>1</td>\n",
              "      <td>3</td>\n",
              "      <td>5</td>\n",
              "    </tr>\n",
              "    <tr>\n",
              "      <th>280</th>\n",
              "      <td>10005</td>\n",
              "      <td>1977</td>\n",
              "      <td>1156</td>\n",
              "      <td>866</td>\n",
              "      <td>2</td>\n",
              "      <td>4</td>\n",
              "      <td>8</td>\n",
              "    </tr>\n",
              "    <tr>\n",
              "      <th>656</th>\n",
              "      <td>1680</td>\n",
              "      <td>1971</td>\n",
              "      <td>525</td>\n",
              "      <td>567</td>\n",
              "      <td>1</td>\n",
              "      <td>3</td>\n",
              "      <td>6</td>\n",
              "    </tr>\n",
              "  </tbody>\n",
              "</table>\n",
              "</div>\n",
              "    <div class=\"colab-df-buttons\">\n",
              "\n",
              "  <div class=\"colab-df-container\">\n",
              "    <button class=\"colab-df-convert\" onclick=\"convertToInteractive('df-fdc4d410-ba0f-46d5-9542-7d23c413b8f9')\"\n",
              "            title=\"Convert this dataframe to an interactive table.\"\n",
              "            style=\"display:none;\">\n",
              "\n",
              "  <svg xmlns=\"http://www.w3.org/2000/svg\" height=\"24px\" viewBox=\"0 -960 960 960\">\n",
              "    <path d=\"M120-120v-720h720v720H120Zm60-500h600v-160H180v160Zm220 220h160v-160H400v160Zm0 220h160v-160H400v160ZM180-400h160v-160H180v160Zm440 0h160v-160H620v160ZM180-180h160v-160H180v160Zm440 0h160v-160H620v160Z\"/>\n",
              "  </svg>\n",
              "    </button>\n",
              "\n",
              "  <style>\n",
              "    .colab-df-container {\n",
              "      display:flex;\n",
              "      gap: 12px;\n",
              "    }\n",
              "\n",
              "    .colab-df-convert {\n",
              "      background-color: #E8F0FE;\n",
              "      border: none;\n",
              "      border-radius: 50%;\n",
              "      cursor: pointer;\n",
              "      display: none;\n",
              "      fill: #1967D2;\n",
              "      height: 32px;\n",
              "      padding: 0 0 0 0;\n",
              "      width: 32px;\n",
              "    }\n",
              "\n",
              "    .colab-df-convert:hover {\n",
              "      background-color: #E2EBFA;\n",
              "      box-shadow: 0px 1px 2px rgba(60, 64, 67, 0.3), 0px 1px 3px 1px rgba(60, 64, 67, 0.15);\n",
              "      fill: #174EA6;\n",
              "    }\n",
              "\n",
              "    .colab-df-buttons div {\n",
              "      margin-bottom: 4px;\n",
              "    }\n",
              "\n",
              "    [theme=dark] .colab-df-convert {\n",
              "      background-color: #3B4455;\n",
              "      fill: #D2E3FC;\n",
              "    }\n",
              "\n",
              "    [theme=dark] .colab-df-convert:hover {\n",
              "      background-color: #434B5C;\n",
              "      box-shadow: 0px 1px 3px 1px rgba(0, 0, 0, 0.15);\n",
              "      filter: drop-shadow(0px 1px 2px rgba(0, 0, 0, 0.3));\n",
              "      fill: #FFFFFF;\n",
              "    }\n",
              "  </style>\n",
              "\n",
              "    <script>\n",
              "      const buttonEl =\n",
              "        document.querySelector('#df-fdc4d410-ba0f-46d5-9542-7d23c413b8f9 button.colab-df-convert');\n",
              "      buttonEl.style.display =\n",
              "        google.colab.kernel.accessAllowed ? 'block' : 'none';\n",
              "\n",
              "      async function convertToInteractive(key) {\n",
              "        const element = document.querySelector('#df-fdc4d410-ba0f-46d5-9542-7d23c413b8f9');\n",
              "        const dataTable =\n",
              "          await google.colab.kernel.invokeFunction('convertToInteractive',\n",
              "                                                    [key], {});\n",
              "        if (!dataTable) return;\n",
              "\n",
              "        const docLinkHtml = 'Like what you see? Visit the ' +\n",
              "          '<a target=\"_blank\" href=https://colab.research.google.com/notebooks/data_table.ipynb>data table notebook</a>'\n",
              "          + ' to learn more about interactive tables.';\n",
              "        element.innerHTML = '';\n",
              "        dataTable['output_type'] = 'display_data';\n",
              "        await google.colab.output.renderOutput(dataTable, element);\n",
              "        const docLink = document.createElement('div');\n",
              "        docLink.innerHTML = docLinkHtml;\n",
              "        element.appendChild(docLink);\n",
              "      }\n",
              "    </script>\n",
              "  </div>\n",
              "\n",
              "\n",
              "<div id=\"df-2c30fe02-0182-41e2-8f9f-bf1088a7e1fe\">\n",
              "  <button class=\"colab-df-quickchart\" onclick=\"quickchart('df-2c30fe02-0182-41e2-8f9f-bf1088a7e1fe')\"\n",
              "            title=\"Suggest charts\"\n",
              "            style=\"display:none;\">\n",
              "\n",
              "<svg xmlns=\"http://www.w3.org/2000/svg\" height=\"24px\"viewBox=\"0 0 24 24\"\n",
              "     width=\"24px\">\n",
              "    <g>\n",
              "        <path d=\"M19 3H5c-1.1 0-2 .9-2 2v14c0 1.1.9 2 2 2h14c1.1 0 2-.9 2-2V5c0-1.1-.9-2-2-2zM9 17H7v-7h2v7zm4 0h-2V7h2v10zm4 0h-2v-4h2v4z\"/>\n",
              "    </g>\n",
              "</svg>\n",
              "  </button>\n",
              "\n",
              "<style>\n",
              "  .colab-df-quickchart {\n",
              "      --bg-color: #E8F0FE;\n",
              "      --fill-color: #1967D2;\n",
              "      --hover-bg-color: #E2EBFA;\n",
              "      --hover-fill-color: #174EA6;\n",
              "      --disabled-fill-color: #AAA;\n",
              "      --disabled-bg-color: #DDD;\n",
              "  }\n",
              "\n",
              "  [theme=dark] .colab-df-quickchart {\n",
              "      --bg-color: #3B4455;\n",
              "      --fill-color: #D2E3FC;\n",
              "      --hover-bg-color: #434B5C;\n",
              "      --hover-fill-color: #FFFFFF;\n",
              "      --disabled-bg-color: #3B4455;\n",
              "      --disabled-fill-color: #666;\n",
              "  }\n",
              "\n",
              "  .colab-df-quickchart {\n",
              "    background-color: var(--bg-color);\n",
              "    border: none;\n",
              "    border-radius: 50%;\n",
              "    cursor: pointer;\n",
              "    display: none;\n",
              "    fill: var(--fill-color);\n",
              "    height: 32px;\n",
              "    padding: 0;\n",
              "    width: 32px;\n",
              "  }\n",
              "\n",
              "  .colab-df-quickchart:hover {\n",
              "    background-color: var(--hover-bg-color);\n",
              "    box-shadow: 0 1px 2px rgba(60, 64, 67, 0.3), 0 1px 3px 1px rgba(60, 64, 67, 0.15);\n",
              "    fill: var(--button-hover-fill-color);\n",
              "  }\n",
              "\n",
              "  .colab-df-quickchart-complete:disabled,\n",
              "  .colab-df-quickchart-complete:disabled:hover {\n",
              "    background-color: var(--disabled-bg-color);\n",
              "    fill: var(--disabled-fill-color);\n",
              "    box-shadow: none;\n",
              "  }\n",
              "\n",
              "  .colab-df-spinner {\n",
              "    border: 2px solid var(--fill-color);\n",
              "    border-color: transparent;\n",
              "    border-bottom-color: var(--fill-color);\n",
              "    animation:\n",
              "      spin 1s steps(1) infinite;\n",
              "  }\n",
              "\n",
              "  @keyframes spin {\n",
              "    0% {\n",
              "      border-color: transparent;\n",
              "      border-bottom-color: var(--fill-color);\n",
              "      border-left-color: var(--fill-color);\n",
              "    }\n",
              "    20% {\n",
              "      border-color: transparent;\n",
              "      border-left-color: var(--fill-color);\n",
              "      border-top-color: var(--fill-color);\n",
              "    }\n",
              "    30% {\n",
              "      border-color: transparent;\n",
              "      border-left-color: var(--fill-color);\n",
              "      border-top-color: var(--fill-color);\n",
              "      border-right-color: var(--fill-color);\n",
              "    }\n",
              "    40% {\n",
              "      border-color: transparent;\n",
              "      border-right-color: var(--fill-color);\n",
              "      border-top-color: var(--fill-color);\n",
              "    }\n",
              "    60% {\n",
              "      border-color: transparent;\n",
              "      border-right-color: var(--fill-color);\n",
              "    }\n",
              "    80% {\n",
              "      border-color: transparent;\n",
              "      border-right-color: var(--fill-color);\n",
              "      border-bottom-color: var(--fill-color);\n",
              "    }\n",
              "    90% {\n",
              "      border-color: transparent;\n",
              "      border-bottom-color: var(--fill-color);\n",
              "    }\n",
              "  }\n",
              "</style>\n",
              "\n",
              "  <script>\n",
              "    async function quickchart(key) {\n",
              "      const quickchartButtonEl =\n",
              "        document.querySelector('#' + key + ' button');\n",
              "      quickchartButtonEl.disabled = true;  // To prevent multiple clicks.\n",
              "      quickchartButtonEl.classList.add('colab-df-spinner');\n",
              "      try {\n",
              "        const charts = await google.colab.kernel.invokeFunction(\n",
              "            'suggestCharts', [key], {});\n",
              "      } catch (error) {\n",
              "        console.error('Error during call to suggestCharts:', error);\n",
              "      }\n",
              "      quickchartButtonEl.classList.remove('colab-df-spinner');\n",
              "      quickchartButtonEl.classList.add('colab-df-quickchart-complete');\n",
              "    }\n",
              "    (() => {\n",
              "      let quickchartButtonEl =\n",
              "        document.querySelector('#df-2c30fe02-0182-41e2-8f9f-bf1088a7e1fe button');\n",
              "      quickchartButtonEl.style.display =\n",
              "        google.colab.kernel.accessAllowed ? 'block' : 'none';\n",
              "    })();\n",
              "  </script>\n",
              "</div>\n",
              "\n",
              "    </div>\n",
              "  </div>\n"
            ],
            "application/vnd.google.colaboratory.intrinsic+json": {
              "type": "dataframe",
              "variable_name": "X_valid",
              "summary": "{\n  \"name\": \"X_valid\",\n  \"rows\": 292,\n  \"fields\": [\n    {\n      \"column\": \"Id\",\n      \"properties\": {\n        \"dtype\": \"number\",\n        \"std\": 420,\n        \"min\": 2,\n        \"max\": 1453,\n        \"num_unique_values\": 292,\n        \"samples\": [\n          1174,\n          57,\n          331\n        ],\n        \"semantic_type\": \"\",\n        \"description\": \"\"\n      }\n    },\n    {\n      \"column\": \"LotArea\",\n      \"properties\": {\n        \"dtype\": \"number\",\n        \"std\": 6316,\n        \"min\": 1477,\n        \"max\": 63887,\n        \"num_unique_values\": 252,\n        \"samples\": [\n          11478,\n          15256,\n          7500\n        ],\n        \"semantic_type\": \"\",\n        \"description\": \"\"\n      }\n    },\n    {\n      \"column\": \"YearBuilt\",\n      \"properties\": {\n        \"dtype\": \"number\",\n        \"std\": 29,\n        \"min\": 1882,\n        \"max\": 2009,\n        \"num_unique_values\": 86,\n        \"samples\": [\n          1916,\n          1957,\n          1983\n        ],\n        \"semantic_type\": \"\",\n        \"description\": \"\"\n      }\n    },\n    {\n      \"column\": \"1stFlrSF\",\n      \"properties\": {\n        \"dtype\": \"number\",\n        \"std\": 436,\n        \"min\": 483,\n        \"max\": 4692,\n        \"num_unique_values\": 232,\n        \"samples\": [\n          929,\n          661,\n          551\n        ],\n        \"semantic_type\": \"\",\n        \"description\": \"\"\n      }\n    },\n    {\n      \"column\": \"2ndFlrSF\",\n      \"properties\": {\n        \"dtype\": \"number\",\n        \"std\": 430,\n        \"min\": 0,\n        \"max\": 2065,\n        \"num_unique_values\": 112,\n        \"samples\": [\n          445,\n          742,\n          567\n        ],\n        \"semantic_type\": \"\",\n        \"description\": \"\"\n      }\n    },\n    {\n      \"column\": \"FullBath\",\n      \"properties\": {\n        \"dtype\": \"number\",\n        \"std\": 0,\n        \"min\": 0,\n        \"max\": 3,\n        \"num_unique_values\": 4,\n        \"samples\": [\n          1,\n          0,\n          3\n        ],\n        \"semantic_type\": \"\",\n        \"description\": \"\"\n      }\n    },\n    {\n      \"column\": \"BedroomAbvGr\",\n      \"properties\": {\n        \"dtype\": \"number\",\n        \"std\": 0,\n        \"min\": 0,\n        \"max\": 6,\n        \"num_unique_values\": 7,\n        \"samples\": [\n          4,\n          3,\n          0\n        ],\n        \"semantic_type\": \"\",\n        \"description\": \"\"\n      }\n    },\n    {\n      \"column\": \"TotRmsAbvGrd\",\n      \"properties\": {\n        \"dtype\": \"number\",\n        \"std\": 1,\n        \"min\": 3,\n        \"max\": 12,\n        \"num_unique_values\": 9,\n        \"samples\": [\n          3,\n          5,\n          10\n        ],\n        \"semantic_type\": \"\",\n        \"description\": \"\"\n      }\n    }\n  ]\n}"
            }
          },
          "metadata": {},
          "execution_count": 50
        }
      ]
    },
    {
      "cell_type": "code",
      "source": [
        "rf_model.predict([[6969, 2021, 1000, 800, 4, 5, 8]])"
      ],
      "metadata": {
        "colab": {
          "base_uri": "https://localhost:8080/"
        },
        "id": "37n0fsKxn7gW",
        "outputId": "e5409120-ef78-41a1-8189-9d058e333adc"
      },
      "execution_count": null,
      "outputs": [
        {
          "output_type": "stream",
          "name": "stderr",
          "text": [
            "/usr/local/lib/python3.10/dist-packages/sklearn/base.py:439: UserWarning: X does not have valid feature names, but RandomForestRegressor was fitted with feature names\n",
            "  warnings.warn(\n"
          ]
        },
        {
          "output_type": "execute_result",
          "data": {
            "text/plain": [
              "array([206158.4])"
            ]
          },
          "metadata": {},
          "execution_count": 62
        }
      ]
    },
    {
      "cell_type": "markdown",
      "source": [
        "## 5. Model Evaluation"
      ],
      "metadata": {
        "id": "fOOXdROzopq1"
      }
    },
    {
      "cell_type": "code",
      "source": [
        "from sklearn.metrics import mean_absolute_error, mean_squared_error, r2_score\n",
        "\n",
        "\n",
        "# Predict on the test data\n",
        "y_pred = rf_model.predict(X_train)\n",
        "\n",
        "# Calculate evaluation metrics\n",
        "mae = mean_absolute_error(y_train, y_pred)\n",
        "mse = mean_squared_error(y_train, y_pred)\n",
        "rmse = np.sqrt(mse)\n",
        "r2 = r2_score(y_train, y_pred)\n",
        "\n",
        "print(\"Model Evaluation Metrics:\")\n",
        "print(f\"Mean Absolute Error (MAE): {mae}\") #\n",
        "print(f\"Mean Squared Error (MSE): {mse}\")\n",
        "print(f\"Root Mean Squared Error (RMSE): {rmse}\")\n",
        "print(f\"R-squared (R²): {r2}\")\n"
      ],
      "metadata": {
        "colab": {
          "base_uri": "https://localhost:8080/"
        },
        "id": "aFG9_xyDor78",
        "outputId": "084942c7-558c-48a8-dbd2-ba85dcc96454"
      },
      "execution_count": null,
      "outputs": [
        {
          "output_type": "stream",
          "name": "stdout",
          "text": [
            "Model Evaluation Metrics:\n",
            "Mean Absolute Error (MAE): 8540.679001793867\n",
            "Mean Squared Error (MSE): 180828925.97247007\n",
            "Root Mean Squared Error (RMSE): 13447.264627888828\n",
            "R-squared (R²): 0.9706301615635249\n"
          ]
        }
      ]
    }
  ]
}